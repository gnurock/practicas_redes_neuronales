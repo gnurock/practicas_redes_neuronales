{
 "cells": [
  {
   "cell_type": "code",
   "execution_count": 52,
   "metadata": {},
   "outputs": [],
   "source": [
    "import numpy as np\n",
    "import pandas as pd\n",
    "import scipy\n",
    "import matplotlib.pyplot as plt\n",
    "from pylab import rcParams\n",
    "\n",
    "import urllib\n",
    "import sklearn\n",
    "from sklearn import preprocessing\n",
    "from sklearn import neighbors\n",
    "from sklearn.cross_validation import train_test_split\n",
    "from sklearn import metrics"
   ]
  },
  {
   "cell_type": "markdown",
   "metadata": {},
   "source": [
    "# Concepto teórico acerca del algoritmo KNN (Vexino más cercano)"
   ]
  },
  {
   "cell_type": "markdown",
   "metadata": {},
   "source": [
    "<h2>Definición</h2>\n",
    "<p>\n",
    "KNN es un algoritmo de clasificón inductivo, se conoce por tener un\n",
    "mecanismo de aprendizaje perezoso, debido a que no tiene una\n",
    "fase de entrenamiento explı́cita.\n",
    "    \n",
    "    <img src=\"lazy.png\" alt=\"lazy\">\n",
    "</p>\n",
    "  \n"
   ]
  },
  {
   "cell_type": "markdown",
   "metadata": {},
   "source": [
    "<h2><strong>Caracterı́sticas</strong></h2>\n",
    "<ul>\n",
    "    <li>  El coste del aprendizaje es 0, todo el coste pasa al cálculo de\n",
    "          la predicción.\n",
    "    </li>\n",
    "    <li>Las reglas de clasificación por vecindad están basadas en la\n",
    "        similitud de caracterı́sticas.\n",
    "    <li> No hay un modelo global asociado a los conceptos a aprender.\n",
    "    </li>\n",
    "     <li> El coste del aprendizaje es 0, todo el coste pasa al cálculo de\n",
    "         la predicción.\n",
    "    </li>\n",
    "     <li> Las predicciones se realizan basándose en los ejemplos mas\n",
    "         parecidos al que hay que predecir. </li>    \n",
    "     <li>El nuevo ejemplo es clasificado con la clase que más se repite\n",
    "        en los vectores seleccionado, tomando en cuenta los k\n",
    "        vecinos mas cercanos.\n",
    "    </li>\n",
    "</ul>\n"
   ]
  },
  {
   "cell_type": "markdown",
   "metadata": {},
   "source": [
    "<h2>Ejemplo</h2>\n",
    "\n",
    "<p>\n",
    "    Se desea determinar la clase a la\n",
    "que pertenece el cı́rculo verde. Para k = 3 este es clasificado con la\n",
    "clase triángulo, ya que hay solo un cuadrado y 2 triángulos, dentro\n",
    "del cı́rculo que los contiene. Si k = 5 este es clasificado con la\n",
    "clase cuadrado, ya que hay 2 triángulos y 3 cuadrados, dentro del\n",
    "cı́rculo externo.\n",
    "    \n",
    "    <img src=\"KnnClassification.png\" alt=\"Knn\">\n",
    "\n",
    "</p>\n",
    "\n"
   ]
  },
  {
   "cell_type": "markdown",
   "metadata": {},
   "source": [
    "<p>\n",
    "Los ejemplos de entrenamiento son vectores en un espacio\n",
    "caracterı́stico multidimensional,\n",
    "xi = (x1i , x2i , ..., xpi ) ∈ X\n",
    "Este algoritmo asume que todas las instancias corresponden a\n",
    "puntos que se encuentran en un espacio de dimensión n. El vecino\n",
    "mas cercano de una instancia se puede definir mediante la distancia euclidiana.\n",
    "</p>\n",
    "\n",
    "$d(x{i},x{j})=\\sqrt{\\sum_{r=1}^{p}(x_{ri}- x_{rj})^{2} }$"
   ]
  },
  {
   "cell_type": "markdown",
   "metadata": {},
   "source": [
    "<h2>Objetivo</h2>\n",
    "  <p> Implentar el algoritmo knn usando la libreria sklearn, en este trabajo se prentender realizar una clasificacion de \n",
    " motores de transmision automatica o transmisión manual</p>"
   ]
  },
  {
   "cell_type": "code",
   "execution_count": 53,
   "metadata": {},
   "outputs": [],
   "source": [
    "np.set_printoptions(precision=4,suppress=True)\n",
    "%matplotlib inline\n",
    "rcParams['figure.figsize']=7,4\n",
    "plt.style.use('seaborn-whitegrid')\n"
   ]
  },
  {
   "cell_type": "code",
   "execution_count": 54,
   "metadata": {
    "scrolled": false
   },
   "outputs": [
    {
     "name": "stderr",
     "output_type": "stream",
     "text": [
      "/home/gnusyscamus/anaconda2/lib/python2.7/site-packages/ipykernel_launcher.py:4: DeprecationWarning: \n",
      ".ix is deprecated. Please use\n",
      ".loc for label based indexing or\n",
      ".iloc for positional indexing\n",
      "\n",
      "See the documentation here:\n",
      "http://pandas.pydata.org/pandas-docs/stable/indexing.html#ix-indexer-is-deprecated\n",
      "  after removing the cwd from sys.path.\n",
      "/home/gnusyscamus/anaconda2/lib/python2.7/site-packages/ipykernel_launcher.py:5: DeprecationWarning: \n",
      ".ix is deprecated. Please use\n",
      ".loc for label based indexing or\n",
      ".iloc for positional indexing\n",
      "\n",
      "See the documentation here:\n",
      "http://pandas.pydata.org/pandas-docs/stable/indexing.html#ix-indexer-is-deprecated\n",
      "  \"\"\"\n"
     ]
    }
   ],
   "source": [
    "ruta='motoresCarros.csv'\n",
    "cars=pd.read_csv(ruta)\n",
    "cars_columns=['cars_names','mpg','cyls','disp','hp','drat','wt','qsec','vs','am','gear','carb']\n",
    "X_prima=cars.ix[:,(1,2,3,4,5)].values\n",
    "y=cars.ix[:,9].values"
   ]
  },
  {
   "cell_type": "markdown",
   "metadata": {},
   "source": [
    "## preparar los datos de entrenamiento y prueba"
   ]
  },
  {
   "cell_type": "code",
   "execution_count": 55,
   "metadata": {},
   "outputs": [
    {
     "name": "stdout",
     "output_type": "stream",
     "text": [
      "((32, 5), (32,))\n"
     ]
    }
   ],
   "source": [
    "X=preprocessing.scale(X_prima)\n",
    "\n",
    "print (X.shape, y.shape)"
   ]
  },
  {
   "cell_type": "code",
   "execution_count": 56,
   "metadata": {},
   "outputs": [],
   "source": [
    "X_train,X_test,y_train,y_test=train_test_split(X,y,test_size = 0.3, random_state=17)"
   ]
  },
  {
   "cell_type": "markdown",
   "metadata": {},
   "source": [
    "## Construcción del modelo y entrenamiento con los datos de entrada"
   ]
  },
  {
   "cell_type": "code",
   "execution_count": 57,
   "metadata": {},
   "outputs": [
    {
     "data": {
      "text/plain": [
       "KNeighborsClassifier(algorithm='auto', leaf_size=30, metric='minkowski',\n",
       "           metric_params=None, n_jobs=1, n_neighbors=5, p=2,\n",
       "           weights='uniform')"
      ]
     },
     "execution_count": 57,
     "metadata": {},
     "output_type": "execute_result"
    }
   ],
   "source": [
    "clf=neighbors.KNeighborsClassifier()\n",
    "clf.fit(X_train,y_train)"
   ]
  },
  {
   "cell_type": "markdown",
   "metadata": {},
   "source": [
    "## Evaluación  del modelo"
   ]
  },
  {
   "cell_type": "code",
   "execution_count": 58,
   "metadata": {},
   "outputs": [
    {
     "name": "stdout",
     "output_type": "stream",
     "text": [
      "             precision    recall  f1-score   support\n",
      "\n",
      "          0       0.57      1.00      0.73         4\n",
      "          1       1.00      0.50      0.67         6\n",
      "\n",
      "avg / total       0.83      0.70      0.69        10\n",
      "\n"
     ]
    }
   ],
   "source": [
    "y_esperada=y_test\n",
    "y_pred=clf.predict(X_test)\n",
    "print (metrics.classification_report(y_esperada,y_pred))"
   ]
  },
  {
   "cell_type": "code",
   "execution_count": null,
   "metadata": {},
   "outputs": [],
   "source": []
  }
 ],
 "metadata": {
  "kernelspec": {
   "display_name": "Python 3",
   "language": "python",
   "name": "python3"
  },
  "language_info": {
   "codemirror_mode": {
    "name": "ipython",
    "version": 2
   },
   "file_extension": ".py",
   "mimetype": "text/x-python",
   "name": "python",
   "nbconvert_exporter": "python",
   "pygments_lexer": "ipython2",
   "version": "2.7.15"
  }
 },
 "nbformat": 4,
 "nbformat_minor": 2
}
