{
 "cells": [
  {
   "cell_type": "code",
   "execution_count": 3,
   "metadata": {},
   "outputs": [],
   "source": [
    "import pandas as pd\n",
    "import numpy as np\n",
    "import matplotlib.pyplot as plt\n",
    "from sklearn.cluster import KMeans \n"
   ]
  },
  {
   "cell_type": "code",
   "execution_count": 6,
   "metadata": {},
   "outputs": [
    {
     "name": "stdout",
     "output_type": "stream",
     "text": [
      "170118\n",
      "57426\n"
     ]
    }
   ],
   "source": [
    "datos = pd.read_csv('pelis.csv')\n",
    "df=pd.DataFrame(datos)\n",
    "x= df['cast_total_facebook_likes'].values\n",
    "y=df['imdb_score'].values\n",
    "\n",
    "print (df['cast_total_facebook_likes'].max())\n",
    "print (df['cast_total_facebook_likes'].min())\n"
   ]
  },
  {
   "cell_type": "code",
   "execution_count": 7,
   "metadata": {},
   "outputs": [],
   "source": [
    "info = df[['cast_total_facebook_likes','imdb_score','x']]"
   ]
  },
  {
   "cell_type": "code",
   "execution_count": null,
   "metadata": {},
   "outputs": [],
   "source": []
  },
  {
   "cell_type": "code",
   "execution_count": 10,
   "metadata": {
    "scrolled": true
   },
   "outputs": [
    {
     "name": "stderr",
     "output_type": "stream",
     "text": [
      "/home/gnusyscamus/anaconda2/lib/python2.7/site-packages/ipykernel_launcher.py:1: FutureWarning: Method .as_matrix will be removed in a future version. Use .values instead.\n",
      "  \"\"\"Entry point for launching an IPython kernel.\n"
     ]
    },
    {
     "data": {
      "text/plain": [
       "array([[1.70118e+05, 6.40000e+00],\n",
       "       [1.40268e+05, 6.00000e+00],\n",
       "       [1.37712e+05, 5.70000e+00],\n",
       "       [1.20797e+05, 6.00000e+00],\n",
       "       [1.08016e+05, 5.40000e+00],\n",
       "       [1.06759e+05, 8.50000e+00],\n",
       "       [1.03354e+05, 6.60000e+00],\n",
       "       [1.01383e+05, 5.80000e+00],\n",
       "       [9.24560e+04, 5.60000e+00],\n",
       "       [9.20000e+04, 7.50000e+00],\n",
       "       [9.14340e+04, 8.00000e+00],\n",
       "       [8.92630e+04, 6.70000e+00],\n",
       "       [8.89530e+04, 7.00000e+00],\n",
       "       [8.84220e+04, 4.90000e+00],\n",
       "       [8.76970e+04, 8.10000e+00],\n",
       "       [8.76970e+04, 8.10000e+00],\n",
       "       [8.30120e+04, 7.30000e+00],\n",
       "       [8.13850e+04, 6.60000e+00],\n",
       "       [8.13850e+04, 6.70000e+00],\n",
       "       [8.11150e+04, 8.80000e+00],\n",
       "       [8.08490e+04, 6.20000e+00],\n",
       "       [8.08060e+04, 6.40000e+00],\n",
       "       [7.99570e+04, 6.50000e+00],\n",
       "       [7.99570e+04, 6.50000e+00],\n",
       "       [7.91500e+04, 7.20000e+00],\n",
       "       [7.78230e+04, 6.70000e+00],\n",
       "       [7.70460e+04, 6.40000e+00],\n",
       "       [7.57930e+04, 6.60000e+00],\n",
       "       [7.43820e+04, 6.70000e+00],\n",
       "       [7.41810e+04, 5.60000e+00],\n",
       "       [7.34410e+04, 6.40000e+00],\n",
       "       [7.34410e+04, 6.40000e+00],\n",
       "       [7.28810e+04, 6.10000e+00],\n",
       "       [7.21150e+04, 7.80000e+00],\n",
       "       [7.19730e+04, 5.70000e+00],\n",
       "       [7.09960e+04, 6.50000e+00],\n",
       "       [6.97460e+04, 7.80000e+00],\n",
       "       [6.47980e+04, 8.20000e+00],\n",
       "       [6.45990e+04, 7.00000e+00],\n",
       "       [6.42590e+04, 6.70000e+00],\n",
       "       [6.40400e+04, 4.60000e+00],\n",
       "       [6.39860e+04, 8.50000e+00],\n",
       "       [6.37690e+04, 7.00000e+00],\n",
       "       [6.37100e+04, 8.30000e+00],\n",
       "       [6.31940e+04, 6.70000e+00],\n",
       "       [6.31650e+04, 6.00000e+00],\n",
       "       [6.28370e+04, 6.00000e+00],\n",
       "       [6.26440e+04, 5.90000e+00],\n",
       "       [6.11100e+04, 7.20000e+00],\n",
       "       [6.06830e+04, 7.40000e+00],\n",
       "       [6.06460e+04, 7.10000e+00],\n",
       "       [6.00590e+04, 7.00000e+00],\n",
       "       [5.98030e+04, 7.10000e+00],\n",
       "       [5.95580e+04, 8.30000e+00],\n",
       "       [5.91770e+04, 5.50000e+00],\n",
       "       [5.91770e+04, 5.50000e+00],\n",
       "       [5.88230e+04, 7.80000e+00],\n",
       "       [5.87530e+04, 7.50000e+00],\n",
       "       [5.85280e+04, 6.30000e+00],\n",
       "       [5.78810e+04, 6.70000e+00],\n",
       "       [5.78440e+04, 6.70000e+00],\n",
       "       [5.78020e+04, 9.00000e+00],\n",
       "       [5.74260e+04, 7.40000e+00]])"
      ]
     },
     "execution_count": 10,
     "metadata": {},
     "output_type": "execute_result"
    }
   ],
   "source": [
    "info.as_matrix()"
   ]
  },
  {
   "cell_type": "code",
   "execution_count": 11,
   "metadata": {},
   "outputs": [],
   "source": [
    "X= np.array(list(zip(x,y)))"
   ]
  },
  {
   "cell_type": "code",
   "execution_count": 12,
   "metadata": {},
   "outputs": [
    {
     "data": {
      "text/plain": [
       "array([[1.70118e+05, 6.40000e+00],\n",
       "       [1.40268e+05, 6.00000e+00],\n",
       "       [1.37712e+05, 5.70000e+00],\n",
       "       [1.20797e+05, 6.00000e+00],\n",
       "       [1.08016e+05, 5.40000e+00],\n",
       "       [1.06759e+05, 8.50000e+00],\n",
       "       [1.03354e+05, 6.60000e+00],\n",
       "       [1.01383e+05, 5.80000e+00],\n",
       "       [9.24560e+04, 5.60000e+00],\n",
       "       [9.20000e+04, 7.50000e+00],\n",
       "       [9.14340e+04, 8.00000e+00],\n",
       "       [8.92630e+04, 6.70000e+00],\n",
       "       [8.89530e+04, 7.00000e+00],\n",
       "       [8.84220e+04, 4.90000e+00],\n",
       "       [8.76970e+04, 8.10000e+00],\n",
       "       [8.76970e+04, 8.10000e+00],\n",
       "       [8.30120e+04, 7.30000e+00],\n",
       "       [8.13850e+04, 6.60000e+00],\n",
       "       [8.13850e+04, 6.70000e+00],\n",
       "       [8.11150e+04, 8.80000e+00],\n",
       "       [8.08490e+04, 6.20000e+00],\n",
       "       [8.08060e+04, 6.40000e+00],\n",
       "       [7.99570e+04, 6.50000e+00],\n",
       "       [7.99570e+04, 6.50000e+00],\n",
       "       [7.91500e+04, 7.20000e+00],\n",
       "       [7.78230e+04, 6.70000e+00],\n",
       "       [7.70460e+04, 6.40000e+00],\n",
       "       [7.57930e+04, 6.60000e+00],\n",
       "       [7.43820e+04, 6.70000e+00],\n",
       "       [7.41810e+04, 5.60000e+00],\n",
       "       [7.34410e+04, 6.40000e+00],\n",
       "       [7.34410e+04, 6.40000e+00],\n",
       "       [7.28810e+04, 6.10000e+00],\n",
       "       [7.21150e+04, 7.80000e+00],\n",
       "       [7.19730e+04, 5.70000e+00],\n",
       "       [7.09960e+04, 6.50000e+00],\n",
       "       [6.97460e+04, 7.80000e+00],\n",
       "       [6.47980e+04, 8.20000e+00],\n",
       "       [6.45990e+04, 7.00000e+00],\n",
       "       [6.42590e+04, 6.70000e+00],\n",
       "       [6.40400e+04, 4.60000e+00],\n",
       "       [6.39860e+04, 8.50000e+00],\n",
       "       [6.37690e+04, 7.00000e+00],\n",
       "       [6.37100e+04, 8.30000e+00],\n",
       "       [6.31940e+04, 6.70000e+00],\n",
       "       [6.31650e+04, 6.00000e+00],\n",
       "       [6.28370e+04, 6.00000e+00],\n",
       "       [6.26440e+04, 5.90000e+00],\n",
       "       [6.11100e+04, 7.20000e+00],\n",
       "       [6.06830e+04, 7.40000e+00],\n",
       "       [6.06460e+04, 7.10000e+00],\n",
       "       [6.00590e+04, 7.00000e+00],\n",
       "       [5.98030e+04, 7.10000e+00],\n",
       "       [5.95580e+04, 8.30000e+00],\n",
       "       [5.91770e+04, 5.50000e+00],\n",
       "       [5.91770e+04, 5.50000e+00],\n",
       "       [5.88230e+04, 7.80000e+00],\n",
       "       [5.87530e+04, 7.50000e+00],\n",
       "       [5.85280e+04, 6.30000e+00],\n",
       "       [5.78810e+04, 6.70000e+00],\n",
       "       [5.78440e+04, 6.70000e+00],\n",
       "       [5.78020e+04, 9.00000e+00],\n",
       "       [5.74260e+04, 7.40000e+00]])"
      ]
     },
     "execution_count": 12,
     "metadata": {},
     "output_type": "execute_result"
    }
   ],
   "source": [
    "X"
   ]
  },
  {
   "cell_type": "code",
   "execution_count": 19,
   "metadata": {},
   "outputs": [
    {
     "name": "stdout",
     "output_type": "stream",
     "text": [
      "('Coordenada:', array([1.70118e+05, 6.40000e+00]), 'label:', 1)\n",
      "('Coordenada:', array([1.40268e+05, 6.00000e+00]), 'label:', 1)\n",
      "('Coordenada:', array([1.37712e+05, 5.70000e+00]), 'label:', 1)\n",
      "('Coordenada:', array([1.20797e+05, 6.00000e+00]), 'label:', 1)\n",
      "('Coordenada:', array([1.08016e+05, 5.40000e+00]), 'label:', 1)\n",
      "('Coordenada:', array([1.06759e+05, 8.50000e+00]), 'label:', 1)\n",
      "('Coordenada:', array([1.03354e+05, 6.60000e+00]), 'label:', 1)\n",
      "('Coordenada:', array([1.01383e+05, 5.80000e+00]), 'label:', 1)\n",
      "('Coordenada:', array([9.2456e+04, 5.6000e+00]), 'label:', 0)\n",
      "('Coordenada:', array([9.2e+04, 7.5e+00]), 'label:', 0)\n",
      "('Coordenada:', array([9.1434e+04, 8.0000e+00]), 'label:', 0)\n",
      "('Coordenada:', array([8.9263e+04, 6.7000e+00]), 'label:', 0)\n",
      "('Coordenada:', array([8.8953e+04, 7.0000e+00]), 'label:', 0)\n",
      "('Coordenada:', array([8.8422e+04, 4.9000e+00]), 'label:', 0)\n",
      "('Coordenada:', array([8.7697e+04, 8.1000e+00]), 'label:', 0)\n",
      "('Coordenada:', array([8.7697e+04, 8.1000e+00]), 'label:', 0)\n",
      "('Coordenada:', array([8.3012e+04, 7.3000e+00]), 'label:', 0)\n",
      "('Coordenada:', array([8.1385e+04, 6.6000e+00]), 'label:', 0)\n",
      "('Coordenada:', array([8.1385e+04, 6.7000e+00]), 'label:', 0)\n",
      "('Coordenada:', array([8.1115e+04, 8.8000e+00]), 'label:', 0)\n",
      "('Coordenada:', array([8.0849e+04, 6.2000e+00]), 'label:', 0)\n",
      "('Coordenada:', array([8.0806e+04, 6.4000e+00]), 'label:', 0)\n",
      "('Coordenada:', array([7.9957e+04, 6.5000e+00]), 'label:', 0)\n",
      "('Coordenada:', array([7.9957e+04, 6.5000e+00]), 'label:', 0)\n",
      "('Coordenada:', array([7.915e+04, 7.200e+00]), 'label:', 0)\n",
      "('Coordenada:', array([7.7823e+04, 6.7000e+00]), 'label:', 0)\n",
      "('Coordenada:', array([7.7046e+04, 6.4000e+00]), 'label:', 0)\n",
      "('Coordenada:', array([7.5793e+04, 6.6000e+00]), 'label:', 0)\n",
      "('Coordenada:', array([7.4382e+04, 6.7000e+00]), 'label:', 0)\n",
      "('Coordenada:', array([7.4181e+04, 5.6000e+00]), 'label:', 0)\n",
      "('Coordenada:', array([7.3441e+04, 6.4000e+00]), 'label:', 0)\n",
      "('Coordenada:', array([7.3441e+04, 6.4000e+00]), 'label:', 0)\n",
      "('Coordenada:', array([7.2881e+04, 6.1000e+00]), 'label:', 0)\n",
      "('Coordenada:', array([7.2115e+04, 7.8000e+00]), 'label:', 0)\n",
      "('Coordenada:', array([7.1973e+04, 5.7000e+00]), 'label:', 0)\n",
      "('Coordenada:', array([7.0996e+04, 6.5000e+00]), 'label:', 0)\n",
      "('Coordenada:', array([6.9746e+04, 7.8000e+00]), 'label:', 0)\n",
      "('Coordenada:', array([6.4798e+04, 8.2000e+00]), 'label:', 0)\n",
      "('Coordenada:', array([6.4599e+04, 7.0000e+00]), 'label:', 0)\n",
      "('Coordenada:', array([6.4259e+04, 6.7000e+00]), 'label:', 0)\n",
      "('Coordenada:', array([6.404e+04, 4.600e+00]), 'label:', 0)\n",
      "('Coordenada:', array([6.3986e+04, 8.5000e+00]), 'label:', 0)\n",
      "('Coordenada:', array([6.3769e+04, 7.0000e+00]), 'label:', 0)\n",
      "('Coordenada:', array([6.371e+04, 8.300e+00]), 'label:', 0)\n",
      "('Coordenada:', array([6.3194e+04, 6.7000e+00]), 'label:', 0)\n",
      "('Coordenada:', array([6.3165e+04, 6.0000e+00]), 'label:', 0)\n",
      "('Coordenada:', array([6.2837e+04, 6.0000e+00]), 'label:', 0)\n",
      "('Coordenada:', array([6.2644e+04, 5.9000e+00]), 'label:', 0)\n",
      "('Coordenada:', array([6.111e+04, 7.200e+00]), 'label:', 0)\n",
      "('Coordenada:', array([6.0683e+04, 7.4000e+00]), 'label:', 0)\n",
      "('Coordenada:', array([6.0646e+04, 7.1000e+00]), 'label:', 0)\n",
      "('Coordenada:', array([6.0059e+04, 7.0000e+00]), 'label:', 0)\n",
      "('Coordenada:', array([5.9803e+04, 7.1000e+00]), 'label:', 0)\n",
      "('Coordenada:', array([5.9558e+04, 8.3000e+00]), 'label:', 0)\n",
      "('Coordenada:', array([5.9177e+04, 5.5000e+00]), 'label:', 0)\n",
      "('Coordenada:', array([5.9177e+04, 5.5000e+00]), 'label:', 0)\n",
      "('Coordenada:', array([5.8823e+04, 7.8000e+00]), 'label:', 0)\n",
      "('Coordenada:', array([5.8753e+04, 7.5000e+00]), 'label:', 0)\n",
      "('Coordenada:', array([5.8528e+04, 6.3000e+00]), 'label:', 0)\n",
      "('Coordenada:', array([5.7881e+04, 6.7000e+00]), 'label:', 0)\n",
      "('Coordenada:', array([5.7844e+04, 6.7000e+00]), 'label:', 0)\n",
      "('Coordenada:', array([5.7802e+04, 9.0000e+00]), 'label:', 0)\n",
      "('Coordenada:', array([5.7426e+04, 7.4000e+00]), 'label:', 0)\n"
     ]
    },
    {
     "data": {
      "image/png": "[encoded data removed]",
      "text/plain": [
       "<Figure size 432x288 with 1 Axes>"
      ]
     },
     "metadata": {},
     "output_type": "display_data"
    }
   ],
   "source": [
    "kmeans=KMeans(n_clusters=2)\n",
    "kmeans=kmeans.fit(X)\n",
    "labels=kmeans.predict(X)\n",
    "centroide=kmeans.cluster_centers_\n",
    "colores =[\"m.\",\"r.\",\"y.\",\"b.\"]\n",
    "\n",
    "for i  in range (len (X)):\n",
    "    \n",
    "    print (\"Coordenada:\",X[i],\"label:\",labels[i])\n",
    "    plt.plot(X[i][0],X[i][1],colores[labels[i]],markersize=10)\n",
    "plt.show()"
   ]
  }
 ],
 "metadata": {
  "kernelspec": {
   "display_name": "Python 3",
   "language": "python",
   "name": "python3"
  },
  "language_info": {
   "codemirror_mode": {
    "name": "ipython",
    "version": 2
   },
   "file_extension": ".py",
   "mimetype": "text/x-python",
   "name": "python",
   "nbconvert_exporter": "python",
   "pygments_lexer": "ipython2",
   "version": "2.7.15"
  }
 },
 "nbformat": 4,
 "nbformat_minor": 2
}
